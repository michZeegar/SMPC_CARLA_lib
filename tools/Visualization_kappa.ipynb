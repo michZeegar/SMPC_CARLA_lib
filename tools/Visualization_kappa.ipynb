{
 "cells": [
  {
   "cell_type": "markdown",
   "metadata": {},
   "source": [
    "# Visualization of Kappa calculation"
   ]
  },
  {
   "cell_type": "code",
   "execution_count": 1,
   "metadata": {},
   "outputs": [],
   "source": [
    "import pandas as pd\n",
    "import numpy as np\n",
    "import matplotlib.pyplot as plt\n",
    "from scipy.optimize import curve_fit\n",
    "\n",
    "filename = \"PythonAPI/carla_mpc_classic_log.h5\"\n",
    "filename2 = \"PythonAPI/carla_mpc_curv_log.h5\"\n",
    "filename3 = 'PythonAPI/kappa_debug_log.h5'\n",
    "filename4 = 'PythonAPI/kappa_debug_logN15.h5'\n",
    "filename5 = 'PythonAPI/frenet_constant_velo.h5'\n",
    "\n",
    "file_pid = 'PythonAPI/frenet_pid_speed_limit.h5'\n",
    "file_frenet_speed_limit = 'PythonAPI/frenet_mpc_speed_limit.h5'\n",
    "file_frenet_constant_vel = 'PythonAPI/frenet_constant_velo.h5'\n",
    "file_frenet_speed_limit2 = 'PythonAPI/frenet_mpc_speed_limit2.h5'\n",
    "file_frenet_wp15 = 'PythonAPI/frenet_mpc_wp15.h5'\n",
    "file_frenet_wp15_first5 ='PythonAPI/frenet_mpc_wp15_first5only51m.h5'\n",
    "file_frenet_wp15_alsoHist = 'PythonAPI/frenet_mpc_wp15_alsoHist.h5'\n",
    "file_kappa_fkt = 'PythonAPI/frenet_mpc_wKappaFunc.h5'\n",
    "\n",
    "file_lane_change = 'PythonAPI/frenet_lane_change.h5'\n",
    "file_x_axis = 'PythonAPI/x_correction.h5'"
   ]
  },
  {
   "cell_type": "code",
   "execution_count": null,
   "metadata": {},
   "outputs": [],
   "source": []
  },
  {
   "cell_type": "code",
   "execution_count": 21,
   "metadata": {},
   "outputs": [],
   "source": [
    "def rotmat(angle_rad):\n",
    "    \"\"\"\n",
    "    Computes a 2x2 rotation matrix\n",
    "    :param angle_rad: Rotation angle in rad\n",
    "    :return: 2x2 rotation matrix\n",
    "    \"\"\"\n",
    "    c = np.cos(angle_rad)\n",
    "    s = np.sin(angle_rad)\n",
    "    return np.array([[c, s],\n",
    "                     [-s, c]])\n",
    "\n",
    "\n",
    "def polynomial3(x, p0, p1, p2, p3):\n",
    "    \"\"\"\n",
    "    3th-polynomial function for modeling a street trajectory.\n",
    "        function: y = p3 * x³ + p2 * x² + p1 * x + p0\n",
    "    --------\n",
    "    :param x:\n",
    "    :param p0, p1, p2, p3:\n",
    "    :return: y\n",
    "    \"\"\"\n",
    "    return p3 * x ** 3 + p2 * x ** 2 + p1 * x + p0\n",
    "\n",
    "\n",
    "def polynomial3_prime(x, p1, p2, p3):\n",
    "    \"\"\"\n",
    "    First derivation of 3th-polynomial function for modeling a street trajectory.\n",
    "        function: y = 3 * p3 * x² + 2 * p2 * x + p01\n",
    "    --------\n",
    "    :param x:\n",
    "    :param p0, p1, p2, p3:\n",
    "    :return: y\n",
    "    \"\"\"\n",
    "    return 3 * p3 * x ** 2 + 2 * p2 * x + p1\n",
    "\n",
    "\n",
    "def polynomial3_prime2(x, p2, p3):\n",
    "    \"\"\"\n",
    "    Second derivation of 3th-polynomial function for modeling a street trajectory.\n",
    "        function: y = 6 * p3 * x + 2 * p2 * x\n",
    "    --------\n",
    "    :param x:\n",
    "    :param p0, p1, p2, p3:\n",
    "    :return: y\n",
    "    \"\"\"\n",
    "    return 6 * p3 * x + 2 * p2\n",
    "\n",
    "\n",
    "def func_kappa(x, p_arg):\n",
    "    \"\"\"\n",
    "    Curvature function of a waypoint reference line.\n",
    "    :param x: longitude value\n",
    "    :param p_arg: np.array of fitted polynomial factors --> [p0, p1, p2, p3]\n",
    "    :return: curvature of reference line at point x.\n",
    "    \"\"\"\n",
    "    result = polynomial3_prime2(x, p_arg[2], p_arg[3])\n",
    "    denominator = 1 + polynomial3_prime(x, p_arg[1], p_arg[2], p_arg[3]) ** 2\n",
    "    denominator = denominator ** 1.5\n",
    "\n",
    "    return result / denominator\n",
    "\n",
    "def func_kappa2(x, p_arg):\n",
    "    \"\"\"\n",
    "    Curvature function of a waypoint reference line for a n-th polynomial.\n",
    "    :param x: longitude value\n",
    "    :param p_arg: np.array of fitted polynomial factors --> [p0, p1, p2, p3]\n",
    "    :return: curvature of reference line at point x.\n",
    "    \"\"\"\n",
    "    # if a constant is passes as polynomial arguments --> return p_arg as already calculated kappa\n",
    "    if isinstance(p_arg, float) or isinstance(p_arg, int):\n",
    "        return p_arg\n",
    "\n",
    "    p = np.poly1d(p_arg)\n",
    "    p_prime = np.polyder(p)\n",
    "    p_prime2 = np.polyder(p, 2)\n",
    "\n",
    "    result = p_prime2(x)\n",
    "    denominator = 1 + p_prime(x) ** 2\n",
    "    denominator = denominator ** 1.5"
   ]
  },
  {
   "cell_type": "code",
   "execution_count": 4,
   "metadata": {},
   "outputs": [
    {
     "data": {
      "text/html": [
       "<div>\n",
       "<style scoped>\n",
       "    .dataframe tbody tr th:only-of-type {\n",
       "        vertical-align: middle;\n",
       "    }\n",
       "\n",
       "    .dataframe tbody tr th {\n",
       "        vertical-align: top;\n",
       "    }\n",
       "\n",
       "    .dataframe thead th {\n",
       "        text-align: right;\n",
       "    }\n",
       "</style>\n",
       "<table border=\"1\" class=\"dataframe\">\n",
       "  <thead>\n",
       "    <tr style=\"text-align: right;\">\n",
       "      <th></th>\n",
       "      <th>wp_mat</th>\n",
       "      <th>wp_mat_0</th>\n",
       "      <th>refernce_point</th>\n",
       "      <th>rotations_mat</th>\n",
       "      <th>angle_wp</th>\n",
       "      <th>p_opt</th>\n",
       "    </tr>\n",
       "    <tr>\n",
       "      <th>timestamp</th>\n",
       "      <th></th>\n",
       "      <th></th>\n",
       "      <th></th>\n",
       "      <th></th>\n",
       "      <th></th>\n",
       "      <th></th>\n",
       "    </tr>\n",
       "  </thead>\n",
       "  <tbody>\n",
       "    <tr>\n",
       "      <td>0.00</td>\n",
       "      <td>[[0.0, 0.0], [0.0, 0.0], [0.0, 0.0], [0.0, 0.0...</td>\n",
       "      <td>[[0.0, 0.0], [0.0, 0.0], [0.0, 0.0], [0.0, 0.0...</td>\n",
       "      <td>[0, 0]</td>\n",
       "      <td>[[1.0, 0.0], [-0.0, 1.0]]</td>\n",
       "      <td>0.000000</td>\n",
       "      <td>[0, 0, 0, 0]</td>\n",
       "    </tr>\n",
       "    <tr>\n",
       "      <td>0.00</td>\n",
       "      <td>[[-30.0000021516689, -5.42259543877104e-06], [...</td>\n",
       "      <td>[[13.411566734313965, -216.56271362304688], [1...</td>\n",
       "      <td>[13.293829917907715, -186.5629425048828]</td>\n",
       "      <td>[[-0.003924379513620069, 0.9999922995930685], ...</td>\n",
       "      <td>1.574721</td>\n",
       "      <td>[-1.8014506662139603e-07, 1.8029353104035263e-...</td>\n",
       "    </tr>\n",
       "    <tr>\n",
       "      <td>0.03</td>\n",
       "      <td>[[-30.0000021516689, -5.42259543877104e-06], [...</td>\n",
       "      <td>[[13.411566734313965, -216.56271362304688], [1...</td>\n",
       "      <td>[13.293829917907715, -186.5629425048828]</td>\n",
       "      <td>[[-0.003924379513620069, 0.9999922995930685], ...</td>\n",
       "      <td>1.574721</td>\n",
       "      <td>[-1.8014506662139603e-07, 1.8029353104035263e-...</td>\n",
       "    </tr>\n",
       "    <tr>\n",
       "      <td>0.07</td>\n",
       "      <td>[[-30.0000021516689, -5.42259543877104e-06], [...</td>\n",
       "      <td>[[13.411566734313965, -216.56271362304688], [1...</td>\n",
       "      <td>[13.293829917907715, -186.5629425048828]</td>\n",
       "      <td>[[-0.003924379513620069, 0.9999922995930685], ...</td>\n",
       "      <td>1.574721</td>\n",
       "      <td>[-1.8014506662139603e-07, 1.8029353104035263e-...</td>\n",
       "    </tr>\n",
       "    <tr>\n",
       "      <td>0.10</td>\n",
       "      <td>[[-30.0000021516689, -5.42259543877104e-06], [...</td>\n",
       "      <td>[[13.411566734313965, -216.56271362304688], [1...</td>\n",
       "      <td>[13.293829917907715, -186.5629425048828]</td>\n",
       "      <td>[[-0.003924379513620069, 0.9999922995930685], ...</td>\n",
       "      <td>1.574721</td>\n",
       "      <td>[-1.8014506662139603e-07, 1.8029353104035263e-...</td>\n",
       "    </tr>\n",
       "    <tr>\n",
       "      <td>...</td>\n",
       "      <td>...</td>\n",
       "      <td>...</td>\n",
       "      <td>...</td>\n",
       "      <td>...</td>\n",
       "      <td>...</td>\n",
       "      <td>...</td>\n",
       "    </tr>\n",
       "    <tr>\n",
       "      <td>153.50</td>\n",
       "      <td>[[-39.90296455014458, 0.6121605505118778], [-3...</td>\n",
       "      <td>[[12.867914199829102, -234.017578125], [13.153...</td>\n",
       "      <td>[13.32345962524414, -194.11251831054688]</td>\n",
       "      <td>[[-0.003924781329199918, 0.9999922980160987], ...</td>\n",
       "      <td>1.574721</td>\n",
       "      <td>[-0.05301209578909806, 0.00020144321991608837,...</td>\n",
       "    </tr>\n",
       "    <tr>\n",
       "      <td>153.53</td>\n",
       "      <td>[[-39.84391743517503, 0.5409434145912014], [-3...</td>\n",
       "      <td>[[12.93571949005127, -233.14813232421875], [13...</td>\n",
       "      <td>[13.320280075073242, -193.30239868164062]</td>\n",
       "      <td>[[-0.003924781329199918, 0.9999922980160987], ...</td>\n",
       "      <td>1.574721</td>\n",
       "      <td>[-0.04694733163099107, 0.00023986249020799255,...</td>\n",
       "    </tr>\n",
       "    <tr>\n",
       "      <td>153.57</td>\n",
       "      <td>[[-39.78439544391035, 0.47410411354444887], [-...</td>\n",
       "      <td>[[12.999135971069336, -232.27821350097656], [1...</td>\n",
       "      <td>[13.317100524902344, -192.4922637939453]</td>\n",
       "      <td>[[-0.003924551494491718, 0.9999922989181302], ...</td>\n",
       "      <td>1.574721</td>\n",
       "      <td>[-0.041096641497392644, 0.00025794210399807804...</td>\n",
       "    </tr>\n",
       "    <tr>\n",
       "      <td>153.60</td>\n",
       "      <td>[[-39.72439829770027, 0.41167075543341003], [-...</td>\n",
       "      <td>[[13.058155059814453, -231.40785217285156], [1...</td>\n",
       "      <td>[13.313920974731445, -191.68214416503906]</td>\n",
       "      <td>[[-0.003924582292930364, 0.9999922987972587], ...</td>\n",
       "      <td>1.574721</td>\n",
       "      <td>[-0.035501236354815974, 0.0002596710377848348,...</td>\n",
       "    </tr>\n",
       "    <tr>\n",
       "      <td>153.63</td>\n",
       "      <td>[[-39.66400254714831, 0.3536158983785328], [-3...</td>\n",
       "      <td>[[13.112784385681152, -230.53712463378906], [1...</td>\n",
       "      <td>[13.310741424560547, -190.87203979492188]</td>\n",
       "      <td>[[-0.003924367853294114, 0.9999922996388282], ...</td>\n",
       "      <td>1.574721</td>\n",
       "      <td>[-0.030294301010671213, 0.00025434997833231334...</td>\n",
       "    </tr>\n",
       "  </tbody>\n",
       "</table>\n",
       "<p>4611 rows × 6 columns</p>\n",
       "</div>"
      ],
      "text/plain": [
       "                                                      wp_mat  \\\n",
       "timestamp                                                      \n",
       "0.00       [[0.0, 0.0], [0.0, 0.0], [0.0, 0.0], [0.0, 0.0...   \n",
       "0.00       [[-30.0000021516689, -5.42259543877104e-06], [...   \n",
       "0.03       [[-30.0000021516689, -5.42259543877104e-06], [...   \n",
       "0.07       [[-30.0000021516689, -5.42259543877104e-06], [...   \n",
       "0.10       [[-30.0000021516689, -5.42259543877104e-06], [...   \n",
       "...                                                      ...   \n",
       "153.50     [[-39.90296455014458, 0.6121605505118778], [-3...   \n",
       "153.53     [[-39.84391743517503, 0.5409434145912014], [-3...   \n",
       "153.57     [[-39.78439544391035, 0.47410411354444887], [-...   \n",
       "153.60     [[-39.72439829770027, 0.41167075543341003], [-...   \n",
       "153.63     [[-39.66400254714831, 0.3536158983785328], [-3...   \n",
       "\n",
       "                                                    wp_mat_0  \\\n",
       "timestamp                                                      \n",
       "0.00       [[0.0, 0.0], [0.0, 0.0], [0.0, 0.0], [0.0, 0.0...   \n",
       "0.00       [[13.411566734313965, -216.56271362304688], [1...   \n",
       "0.03       [[13.411566734313965, -216.56271362304688], [1...   \n",
       "0.07       [[13.411566734313965, -216.56271362304688], [1...   \n",
       "0.10       [[13.411566734313965, -216.56271362304688], [1...   \n",
       "...                                                      ...   \n",
       "153.50     [[12.867914199829102, -234.017578125], [13.153...   \n",
       "153.53     [[12.93571949005127, -233.14813232421875], [13...   \n",
       "153.57     [[12.999135971069336, -232.27821350097656], [1...   \n",
       "153.60     [[13.058155059814453, -231.40785217285156], [1...   \n",
       "153.63     [[13.112784385681152, -230.53712463378906], [1...   \n",
       "\n",
       "                                      refernce_point  \\\n",
       "timestamp                                              \n",
       "0.00                                          [0, 0]   \n",
       "0.00        [13.293829917907715, -186.5629425048828]   \n",
       "0.03        [13.293829917907715, -186.5629425048828]   \n",
       "0.07        [13.293829917907715, -186.5629425048828]   \n",
       "0.10        [13.293829917907715, -186.5629425048828]   \n",
       "...                                              ...   \n",
       "153.50      [13.32345962524414, -194.11251831054688]   \n",
       "153.53     [13.320280075073242, -193.30239868164062]   \n",
       "153.57      [13.317100524902344, -192.4922637939453]   \n",
       "153.60     [13.313920974731445, -191.68214416503906]   \n",
       "153.63     [13.310741424560547, -190.87203979492188]   \n",
       "\n",
       "                                               rotations_mat  angle_wp  \\\n",
       "timestamp                                                                \n",
       "0.00                               [[1.0, 0.0], [-0.0, 1.0]]  0.000000   \n",
       "0.00       [[-0.003924379513620069, 0.9999922995930685], ...  1.574721   \n",
       "0.03       [[-0.003924379513620069, 0.9999922995930685], ...  1.574721   \n",
       "0.07       [[-0.003924379513620069, 0.9999922995930685], ...  1.574721   \n",
       "0.10       [[-0.003924379513620069, 0.9999922995930685], ...  1.574721   \n",
       "...                                                      ...       ...   \n",
       "153.50     [[-0.003924781329199918, 0.9999922980160987], ...  1.574721   \n",
       "153.53     [[-0.003924781329199918, 0.9999922980160987], ...  1.574721   \n",
       "153.57     [[-0.003924551494491718, 0.9999922989181302], ...  1.574721   \n",
       "153.60     [[-0.003924582292930364, 0.9999922987972587], ...  1.574721   \n",
       "153.63     [[-0.003924367853294114, 0.9999922996388282], ...  1.574721   \n",
       "\n",
       "                                                       p_opt  \n",
       "timestamp                                                     \n",
       "0.00                                            [0, 0, 0, 0]  \n",
       "0.00       [-1.8014506662139603e-07, 1.8029353104035263e-...  \n",
       "0.03       [-1.8014506662139603e-07, 1.8029353104035263e-...  \n",
       "0.07       [-1.8014506662139603e-07, 1.8029353104035263e-...  \n",
       "0.10       [-1.8014506662139603e-07, 1.8029353104035263e-...  \n",
       "...                                                      ...  \n",
       "153.50     [-0.05301209578909806, 0.00020144321991608837,...  \n",
       "153.53     [-0.04694733163099107, 0.00023986249020799255,...  \n",
       "153.57     [-0.041096641497392644, 0.00025794210399807804...  \n",
       "153.60     [-0.035501236354815974, 0.0002596710377848348,...  \n",
       "153.63     [-0.030294301010671213, 0.00025434997833231334...  \n",
       "\n",
       "[4611 rows x 6 columns]"
      ]
     },
     "execution_count": 4,
     "metadata": {},
     "output_type": "execute_result"
    }
   ],
   "source": [
    "\n",
    "\n",
    "data = pd.read_hdf(filename5, 'kappa_log')\n",
    "\n",
    "data_pid = pd.read_hdf(file_pid, 'kappa_log')\n",
    "data_frenet_speed_limit = pd.read_hdf(file_frenet_speed_limit, \"kappa_log\")\n",
    "data_frenet_constant_velo = pd.read_hdf(file_frenet_constant_vel, \"kappa_log\")\n",
    "data_frenet_speed_limit2 = pd.read_hdf(file_frenet_speed_limit2, \"kappa_log\")\n",
    "data_frenet_wp15 = pd.read_hdf(file_frenet_wp15, 'kappa_log')\n",
    "data_frenet_wp15_5 = pd.read_hdf(file_frenet_wp15_first5, 'kappa_log')\n",
    "data_frenet_wp15_Hist = pd.read_hdf(file_frenet_wp15_alsoHist, 'kappa_log')\n",
    "data_kappa_func = pd.read_hdf(file_kappa_fkt, 'kappa_log')\n",
    "\n",
    "data_lane_change = pd.read_hdf(file_lane_change, 'kappa_log')\n",
    "data_x_axis = pd.read_hdf(file_x_axis, 'kappa_log')\n",
    "\n",
    "data_frenet_speed_limit2\n"
   ]
  },
  {
   "cell_type": "markdown",
   "metadata": {},
   "source": [
    "## Display reference curvature "
   ]
  },
  {
   "cell_type": "code",
   "execution_count": 14,
   "metadata": {},
   "outputs": [],
   "source": [
    "def plot_ref_curve(data, t: float):\n",
    "    plt.rcParams[\"figure.figsize\"] = (20,10)\n",
    "    plt.suptitle(\"Reference Curva at timestamp:\" + str(t), fontsize=16)\n",
    "    curve = data.loc[t]['wp_mat']\n",
    "\n",
    "    fig, ax = plt.subplots()\n",
    "    ax.scatter(curve[:,0], curve[:,1])\n",
    "    ax.plot(curve[:,0], curve[:,1])\n",
    "    plt.xlabel(\"X\")\n",
    "    plt.ylabel(\"Y\")\n",
    "\n",
    "    n = np.linspace(0,curve.shape[0] - 1,curve.shape[0])\n",
    "    for i, txt in enumerate(n):\n",
    "        ax.annotate(int(txt), (curve[i,0], curve[i,1]))\n",
    "    x, y = get_poly_values(data, t)\n",
    "    ax.plot(x, y, \"--r\", label=\"polynomial\")\n",
    "    plt.legend()\n",
    "    plt.savefig('reference_curve.pdf') \n",
    "    return fig, ax\n",
    "\n",
    "def plot_ref_curve_orginal(data, t: float):\n",
    "    plt.rcParams[\"figure.figsize\"] = (20,20)\n",
    "    plt.suptitle(\"Reference Curva at timestamp:\" + str(t), fontsize=16)\n",
    "    curve = data.loc[t]['wp_mat_0']\n",
    "    \n",
    "    fig, ax = plt.subplots()\n",
    "    ax.scatter(curve[:,0], curve[:,1])\n",
    "    ax.plot(curve[:,0], curve[:,1])\n",
    "    plt.xlabel(\"X\")\n",
    "    plt.ylabel(\"Y\")\n",
    "\n",
    "    n = np.linspace(0,curve.shape[0] - 1,curve.shape[0])\n",
    "\n",
    "    for i, txt in enumerate(n):\n",
    "        ax.annotate(int(txt), (curve[i,0], curve[i,1]))\n",
    "    \n",
    "    \n",
    "    plt.savefig('reference_curve0.pdf') \n",
    "    return fig\n",
    "\n",
    "def get_poly_values(data,t: float, p_opt=None):\n",
    "    if p_opt is None:\n",
    "        p_opt = data.loc[t]['p_opt']\n",
    "\n",
    "    N = 15\n",
    "    dt = 0.2\n",
    "    velocity = 80\n",
    "    factor = 2\n",
    "    \n",
    "    sampling_radius = velocity * dt * factor / 3.6\n",
    "    n = np.linspace(-0.5 * N * sampling_radius,sampling_radius* N,N )\n",
    "    p = np.poly1d(p_opt[::-1])\n",
    "    y =p(n)\n",
    "    # y = polynomial3(n, p_opt[0], p_opt[1], p_opt[2], p_opt[3])\n",
    "    \n",
    "    return n, y\n",
    "\n",
    "def plot_ref_poly(t: float):    \n",
    "    plt.rcParams[\"figure.figsize\"] = (20,10)\n",
    "    plt.suptitle(\"Polynomial Curve at timestamp:\" + str(t), fontsize=16)\n",
    "    \n",
    "    n, y = get_poly_values(t)\n",
    "    \n",
    "    fig, ax = plt.subplots()\n",
    "    plot = ax.plot(n, y)\n",
    "    plt.xlabel(\"X\")\n",
    "    plt.ylabel(\"Y\")\n",
    "    \n",
    "    return plot"
   ]
  },
  {
   "cell_type": "code",
   "execution_count": 50,
   "metadata": {},
   "outputs": [],
   "source": [
    "def calculate_curvature_func_args(wp_mat, N=15, log=False):\n",
    "    \"\"\"\n",
    "    Function to calculate the curvature function arguments.\n",
    "    This is done by fitting all reference waypoint from the waypoint buffer to 3th-polynomial function.\n",
    "    :return: [p0, p1, p2, p3] of the 3th polynomial.\n",
    "    \"\"\"\n",
    "    # Getting optimal parameters for 3th polynomial by fitting the a curve\n",
    "    # Doc: https://docs.scipy.org/doc/scipy/reference/generated/scipy.optimize.curve_fit.html\n",
    "    #p_opt, _ = curve_fit(polynomial3, wp_mat[:N+1, 0], wp_mat[:N+1, 1])\n",
    "    p_opt = np.polynomial.polynomial.polyfit(wp_mat[:, 0], wp_mat[:, 1], deg=5)\n",
    "    print(wp_mat[:, 0])\n",
    "\n",
    "    return p_opt"
   ]
  },
  {
   "cell_type": "code",
   "execution_count": 57,
   "metadata": {},
   "outputs": [
    {
     "name": "stdout",
     "output_type": "stream",
     "text": [
      "[-35.08952136 -31.93340668 -28.67004572 -25.30974153 -21.86320616\n",
      " -18.3413464  -14.75538156 -11.11662557  -7.43668722  -3.72721237\n",
      "   0.           3.73315039   7.46036829  11.16982932  14.8497702\n",
      "  18.48849764  22.07449051  25.59633426  28.69084961  31.50538359\n",
      "  34.31992412  37.13445633  39.94898855  42.76352908  45.5780613\n",
      "  48.39259352]\n",
      "[-2.96975916e-02 -2.92398469e-02  7.91597024e-03  9.69048390e-06\n",
      "  1.44523203e-09 -1.71763640e-08]\n",
      "[-1.71763640e-08  1.44523203e-09  9.69048390e-06  7.91597024e-03\n",
      " -2.92398469e-02 -2.96975916e-02]\n",
      "         5           4            3            2\n",
      "-0.0297 x - 0.02924 x + 0.007916 x + 9.69e-06 x + 1.445e-09 x - 1.718e-08\n"
     ]
    },
    {
     "data": {
      "text/plain": [
       "<matplotlib.figure.Figure at 0x7ff195e77ac8>"
      ]
     },
     "metadata": {},
     "output_type": "display_data"
    },
    {
     "data": {
      "image/png": "[encoded data removed]",
      "text/plain": [
       "<matplotlib.figure.Figure at 0x7ff197849c50>"
      ]
     },
     "metadata": {
      "needs_background": "light"
     },
     "output_type": "display_data"
    }
   ],
   "source": [
    "timestamp = 117.2\n",
    "fig,ax = plot_ref_curve(data_frenet_speed_limit2, timestamp)\n",
    "\n",
    "p_opt_new = calculate_curvature_func_args(data_frenet_speed_limit2.loc[timestamp]['wp_mat'])\n",
    "new_ref_x, new_ref_y = get_poly_values(data_frenet_speed_limit2 ,timestamp, p_opt_new)\n",
    "ax.plot(new_ref_x, new_ref_y, \"--g\", label=\"polynomial-5\")\n",
    "\n",
    "print(p_opt_new)\n",
    "print(p_opt_new[::-1])\n",
    "\n",
    "# plt.xlim([-15, 20])\n",
    "# plt.ylim([-12, 5])\n",
    "\n",
    "plt.legend()\n",
    "plt.savefig('reference_curve.pdf')\n",
    "\n",
    "p = np.poly1d(p_opt_new)\n",
    "print(p)"
   ]
  },
  {
   "cell_type": "code",
   "execution_count": 38,
   "metadata": {},
   "outputs": [
    {
     "name": "stdout",
     "output_type": "stream",
     "text": [
      "[-46.74974075 -43.0747672  -39.39979365 -35.7248201  -32.04984655\n",
      " -28.374873   -24.69989945 -21.0249259  -17.34995236 -13.67497881\n",
      " -10.00000525  -8.00001031  -6.0000001   -4.00000516  -2.00001021\n",
      "   0.           2.99999242   5.90067892   8.7155102   11.52936423\n",
      "  14.34160031  17.783396    21.22064426  24.65212481  28.07669377\n",
      "  31.49317694  34.90038496  38.29718956  41.68237097  45.05490812\n",
      "  48.41352036]\n"
     ]
    },
    {
     "data": {
      "text/plain": [
       "<matplotlib.figure.Figure at 0x7ff18c6fccc0>"
      ]
     },
     "metadata": {},
     "output_type": "display_data"
    },
    {
     "data": {
      "image/png": "[encoded data removed]",
      "text/plain": [
       "<matplotlib.figure.Figure at 0x7ff18c493cc0>"
      ]
     },
     "metadata": {
      "needs_background": "light"
     },
     "output_type": "display_data"
    }
   ],
   "source": [
    "timestamp = 23.2\n",
    "fig,ax = plot_ref_curve(data_frenet_speed_limit2, timestamp)\n",
    "\n",
    "p_opt_N15 = calculate_curvature_func_args(data_frenet_wp15_Hist.loc[timestamp]['wp_mat'])\n",
    "# new_ref_x, new_ref_y = get_poly_values(timestamp, p_opt_N15)\n",
    "# ax.plot(new_ref_x, new_ref_y, \"--g\", label=\"polynomial-N15\")\n",
    "\n",
    "\n",
    "# plt.xlim([-15, 20])\n",
    "# plt.ylim([-2, 10])\n",
    "\n",
    "plt.legend()\n",
    "plt.savefig('reference_curve.pdf')"
   ]
  },
  {
   "cell_type": "code",
   "execution_count": 14,
   "metadata": {},
   "outputs": [
    {
     "data": {
      "text/plain": [
       "<matplotlib.figure.Figure at 0x7f2bec1b1438>"
      ]
     },
     "metadata": {},
     "output_type": "display_data"
    },
    {
     "data": {
      "image/png": "[encoded data removed]",
      "text/plain": [
       "<matplotlib.figure.Figure at 0x7f2bec1b1668>"
      ]
     },
     "metadata": {
      "needs_background": "light"
     },
     "output_type": "display_data"
    }
   ],
   "source": [
    "timestamp = 65.2\n",
    "curve = plot_ref_curve_orginal(data_frenet_speed_limit2, timestamp)\n",
    "plt.rcParams[\"figure.figsize\"] = (20,20)\n",
    "# plt.ylim([10,25])"
   ]
  },
  {
   "cell_type": "markdown",
   "metadata": {},
   "source": [
    "## Checking distance btw wp"
   ]
  },
  {
   "cell_type": "code",
   "execution_count": 24,
   "metadata": {},
   "outputs": [
    {
     "name": "stdout",
     "output_type": "stream",
     "text": [
      "Next waypoint:  [-11.74670982 166.12257385]\n",
      "Current waypoint:  [-11.72816467 169.79751587]\n",
      "Distance: 3.6749888092346827\n",
      "Original Sampling radius:  8.88888888888889\n"
     ]
    }
   ],
   "source": [
    "data = data_frenet_wp15_Hist\n",
    "next_wp = data.loc[21.20]['wp_mat_0'][14,:]\n",
    "current_wp = data.loc[21.20]['refernce_point']\n",
    "\n",
    "print(\"Next waypoint: \", next_wp)\n",
    "print(\"Current waypoint: \", current_wp)\n",
    "\n",
    "# Sampling radius btw Wp, if vehicle would reach 80\n",
    "N = 10\n",
    "dt = 0.2\n",
    "velocity = 80\n",
    "factor = 2\n",
    "sampling_radius = velocity * dt * factor / 3.6\n",
    "\n",
    "d = current_wp - next_wp \n",
    "d = np.sqrt(np.dot(d.T, d))\n",
    "print('Distance:', d)\n",
    "print(\"Original Sampling radius: \", sampling_radius)"
   ]
  },
  {
   "cell_type": "code",
   "execution_count": 93,
   "metadata": {},
   "outputs": [
    {
     "name": "stdout",
     "output_type": "stream",
     "text": [
      "Distance: 5.367192141266412\n",
      "Original Sampling radius:  8.88888888888889\n"
     ]
    },
    {
     "data": {
      "text/plain": [
       "array([-1.91481969e-06, -1.91481969e-06, -1.91481969e-06, -9.61152719e-07,\n",
       "       -7.48574744e-09,  0.00000000e+00,  2.54788993e-16,  9.53666972e-07,\n",
       "        9.53666972e-07,  1.90733394e-06,  1.91107682e-06,  1.77056354e-06,\n",
       "        2.59868872e-06,  3.41839244e-06,  3.29273368e-06,  4.11442580e-06,\n",
       "        4.94255098e-06,  5.76693329e-06,  5.63390576e-06,  6.45454519e-06,\n",
       "       -4.13688442e-03])"
      ]
     },
     "execution_count": 93,
     "metadata": {},
     "output_type": "execute_result"
    }
   ],
   "source": [
    "timestamp = 12\n",
    "next_wp = data_lane_change.loc[timestamp]['wp_mat'][5,:]\n",
    "current_wp = data_lane_change.loc[timestamp]['wp_mat'][4,:]\n",
    "\n",
    "d = current_wp - next_wp \n",
    "d = np.sqrt(np.dot(d.T, d))\n",
    "print('Distance:', d)\n",
    "print(\"Original Sampling radius: \", sampling_radius)\n",
    "data.loc[timestamp]['wp_mat'][:,1]"
   ]
  },
  {
   "cell_type": "code",
   "execution_count": 194,
   "metadata": {},
   "outputs": [
    {
     "ename": "ModuleNotFoundError",
     "evalue": "No module named 'deque'",
     "output_type": "error",
     "traceback": [
      "\u001b[0;31m---------------------------------------------------------------------------\u001b[0m",
      "\u001b[0;31mModuleNotFoundError\u001b[0m                       Traceback (most recent call last)",
      "\u001b[0;32m<ipython-input-194-9f56e66a6d96>\u001b[0m in \u001b[0;36m<module>\u001b[0;34m\u001b[0m\n\u001b[0;32m----> 1\u001b[0;31m \u001b[0;32mimport\u001b[0m \u001b[0mdeque\u001b[0m\u001b[0;34m\u001b[0m\u001b[0;34m\u001b[0m\u001b[0m\n\u001b[0m",
      "\u001b[0;31mModuleNotFoundError\u001b[0m: No module named 'deque'"
     ]
    }
   ],
   "source": [
    "import deque"
   ]
  },
  {
   "cell_type": "code",
   "execution_count": 205,
   "metadata": {},
   "outputs": [
    {
     "data": {
      "text/plain": [
       "deque([0, 1, 2, 3, 4])"
      ]
     },
     "execution_count": 205,
     "metadata": {},
     "output_type": "execute_result"
    }
   ],
   "source": [
    "from collections import deque\n",
    "\n",
    "test = deque()\n",
    "for i in range(5):\n",
    "    test.append(i)\n",
    "test"
   ]
  },
  {
   "cell_type": "code",
   "execution_count": 207,
   "metadata": {},
   "outputs": [
    {
     "data": {
      "text/plain": [
       "deque([0, 1])"
      ]
     },
     "execution_count": 207,
     "metadata": {},
     "output_type": "execute_result"
    }
   ],
   "source": [
    "s = deque(maxlen=2)\n",
    "[s.append(test[i]) for i in range(2)]\n",
    "s"
   ]
  },
  {
   "cell_type": "code",
   "execution_count": null,
   "metadata": {},
   "outputs": [],
   "source": []
  }
 ],
 "metadata": {
  "kernelspec": {
   "display_name": "Python 3",
   "language": "python",
   "name": "python3"
  },
  "language_info": {
   "codemirror_mode": {
    "name": "ipython",
    "version": 3
   },
   "file_extension": ".py",
   "mimetype": "text/x-python",
   "name": "python",
   "nbconvert_exporter": "python",
   "pygments_lexer": "ipython3",
   "version": "3.6.9"
  }
 },
 "nbformat": 4,
 "nbformat_minor": 4
}
